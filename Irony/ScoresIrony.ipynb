{
  "nbformat": 4,
  "nbformat_minor": 0,
  "metadata": {
    "colab": {
      "provenance": []
    },
    "kernelspec": {
      "name": "python3",
      "display_name": "Python 3"
    },
    "language_info": {
      "name": "python"
    }
  },
  "cells": [
    {
      "cell_type": "code",
      "source": [
        "\n",
        "import pandas as pd\n",
        "import re\n",
        "import os\n",
        "\n",
        "# Get a list of all .csv files in the current directory\n",
        "csv_files = [f for f in os.listdir('.') if f.endswith('.csv')]\n",
        "#print(csv_files)\n",
        "for csv_file in csv_files:\n",
        "  if 'respuestas_' in csv_file:\n",
        "    # Extract the part after \"respuestas_\"\n",
        "    model_name = csv_file.split('respuestas_')[1].split('.')[0]\n",
        "    # Extract the first 5 letters\n",
        "    model_name_short = model_name[:5]\n",
        "    # Extract the first number\n",
        "    match = re.search(r'\\d+', model_name)\n",
        "    if match:\n",
        "      model_number = match.group()\n",
        "    else:\n",
        "      model_number = ''\n",
        "    # Create the DataFrame name\n",
        "    df_name = f\"df{model_name_short}{model_number}\"\n",
        "\n",
        "    # Read the CSV file into a DataFrame\n",
        "    globals()[df_name] = pd.read_csv(csv_file)\n",
        "    print(f\"Created DataFrame: {df_name}\")\n",
        "\n",
        "# Access the created DataFrames like this:\n",
        "# print(dfMini1.head()) # Example for a DataFrame named dfMini1\n"
      ],
      "metadata": {
        "colab": {
          "base_uri": "https://localhost:8080/"
        },
        "id": "SyOBL3Vx0Jgv",
        "outputId": "ff17794c-5e8c-4f03-fd4b-e176406e7e52"
      },
      "execution_count": null,
      "outputs": [
        {
          "output_type": "stream",
          "name": "stdout",
          "text": [
            "Created DataFrame: dfMistr24\n",
            "Created DataFrame: dfsalam7\n"
          ]
        }
      ]
    },
    {
      "cell_type": "code",
      "source": [
        "\n",
        "import re\n",
        "\n",
        "def starts_with_si(text):\n",
        "    \"\"\"Checks if a string starts with 'si' (ignoring case and accents).\n",
        "    Returns 1 if it starts with 'si' or 'sí', 0 if it starts with 'no', and 2 otherwise.\n",
        "    \"\"\"\n",
        "    if isinstance(text, str):\n",
        "        text = text.lower()\n",
        "        text = re.sub(r'[^\\w\\s]', '', text)  # Remove punctuation\n",
        "        if text.startswith('si') or text.startswith('sí') or text.startswith('sim') or text.startswith('bai'):\n",
        "            return 1\n",
        "        elif text.startswith('no') or text.startswith('não') or text.startswith('nao') or text.startswith('ez'):\n",
        "            return 0\n",
        "        else:\n",
        "            return 2\n",
        "    else:\n",
        "        return 2  # Return 2 for non-string inputs\n",
        "\n",
        "# Example using dfMinis3\n",
        "#dfMinis8['starts_with_si'] = dfMinis8['Respuesta del Modelo'].apply(starts_with_si)\n",
        "\n",
        "# View the updated DataFrame\n",
        "#print(dfMinis8.head())\n"
      ],
      "metadata": {
        "id": "xAPAX0xL3lF6"
      },
      "execution_count": null,
      "outputs": []
    },
    {
      "cell_type": "code",
      "source": [
        "\n",
        "#dfs_to_process = [dfsalam2, dfMinis3, dfDeepS1, dfLlama3, dfQwen22, dfMistr7, dfsalam7, dfgemma2, dfMinis8]\n",
        "dfs_to_process = [dfMistr24, dfsalam7]\n",
        "#dfs_to_process = [dfLatxa3]\n",
        "\n",
        "for df in dfs_to_process:\n",
        "  if 'Respuesta del Modelo' in df.columns:\n",
        "    df['starts_with_si'] = df['Respuesta del Modelo'].apply(starts_with_si)\n"
      ],
      "metadata": {
        "id": "bTB47Nok5cnn"
      },
      "execution_count": null,
      "outputs": []
    },
    {
      "cell_type": "code",
      "source": [
        "dfTop=pd.read_csv(\"sample_df.csv\")"
      ],
      "metadata": {
        "id": "1_3S4RX5517T"
      },
      "execution_count": null,
      "outputs": []
    },
    {
      "cell_type": "code",
      "source": [
        "#dfs_to_process = [dfsalam2, dfMinis3, dfDeepS1, dfLlama3, dfQwen22, dfMistr7, dfsalam7, dfgemma2, dfMinis8]\n",
        "dfs_to_process = [dfMistr24, dfsalam7]\n",
        "#dfs_to_process = [dfLatxa3]\n",
        "\n",
        "for df in dfs_to_process:\n",
        "  if 'IS_IRONIC' in dfTop.columns:\n",
        "    df['original_label'] = dfTop['IS_IRONIC']\n",
        "  else:\n",
        "    print(\"Warning: 'IS_IRONIC' column not found in dfTop.\")\n"
      ],
      "metadata": {
        "id": "rb32l0Z34V--"
      },
      "execution_count": null,
      "outputs": []
    },
    {
      "cell_type": "code",
      "source": [
        "# Acc\n",
        "\n",
        "#dfs_to_process = [dfsalam2, dfMinis3, dfDeepS1, dfLlama3, dfQwen22, dfMistr7, dfsalam7, dfgemma2, dfMinis8]\n",
        "#df_names = ['dfsalam2', 'dfMinis3', 'dfDeepS1', 'dfLlama3', 'dfQwen22', 'dfMistr7', 'dfsalam7', 'dfgemma2', 'dfMinis8']\n",
        "dfs_to_process = [dfMistr24, dfsalam7]\n",
        "df_names = [\"dfMistr24\", \"dfsalam7\"]\n",
        "#dfs_to_process = [dfLatxa3]\n",
        "#df_names = [\"dfLatxa3\"]\n",
        "\n",
        "\n",
        "for df, df_name in zip(dfs_to_process, df_names):\n",
        "  if 'original_label' in df.columns and 'starts_with_si' in df.columns:\n",
        "    percentage_equal = (df['original_label'] == df['starts_with_si']).mean() * 100\n",
        "    print(f\"{df_name}: Percentage of equal values between original_label and model prediction: {percentage_equal:.2f}%\")\n"
      ],
      "metadata": {
        "colab": {
          "base_uri": "https://localhost:8080/"
        },
        "id": "rVmmTQMWGjOE",
        "outputId": "3a51a81f-7062-4683-912e-0f78faf8e7bc"
      },
      "execution_count": null,
      "outputs": [
        {
          "output_type": "stream",
          "name": "stdout",
          "text": [
            "dfMistr24: Percentage of equal values between original_label and model prediction: 45.80%\n",
            "dfsalam7: Percentage of equal values between original_label and model prediction: 43.20%\n"
          ]
        }
      ]
    },
    {
      "cell_type": "code",
      "source": [
        "# f1 score based on the existence of only 0 and 1 labels (in the df[starts_with_si] there is values 0,1 and 2 but 2 only represent a wrong answer)\n",
        "\n",
        "#dfs_to_process = [dfsalam2, dfMinis3, dfDeepS1, dfLlama3, dfQwen22, dfMistr7, dfsalam7, dfgemma2, dfMinis8]\n",
        "#df_names = ['dfsalam2', 'dfMinis3', 'dfDeepS1', 'dfLlama3', 'dfQwen22', 'dfMistr7', 'dfsalam7', 'dfgemma2', 'dfMinis8']\n",
        "\n",
        "dfs_to_process = [dfMistr24, dfsalam7]\n",
        "df_names = [\"dfMistr24\", \"dfsalam7\"]\n",
        "#dfs_to_process = [dfLatxa3]\n",
        "#df_names = [\"dfLatxa3\"]\n",
        "for df, df_name in zip(dfs_to_process, df_names):\n",
        "  if 'original_label' in df.columns and 'starts_with_si' in df.columns:\n",
        "    # Create a copy of the 'starts_with_si' column\n",
        "    df['adjusted_starts_with_si'] = df['starts_with_si'].copy()\n",
        "\n",
        "    # Iterate through the rows and adjust 'starts_with_si' based on 'original_label'\n",
        "    for index, row in df.iterrows():\n",
        "      if row['starts_with_si'] == 2:  # Only modify rows where it's 2 (meaning neither 'si' nor 'no')\n",
        "        if row['original_label'] == 0:  # If correct label is 'no' (0)\n",
        "          df.loc[index, 'adjusted_starts_with_si'] = 1  # Change predicted label to 'si' (1)\n",
        "        elif row['original_label'] == 1:  # If correct label is 'si' (1)\n",
        "          df.loc[index, 'adjusted_starts_with_si'] = 0  # Change predicted label to 'no' (0)\n",
        "\n",
        "    # Ensure that 'original_label' and 'adjusted_starts_with_si' have the same length\n",
        "    min_len = min(len(df['original_label']), len(df['adjusted_starts_with_si']))\n",
        "\n",
        "    # Calculate the F1-score using only 0 and 1 labels\n",
        "    f1 = f1_score(df['original_label'].values[:min_len], df['adjusted_starts_with_si'].values[:min_len], average='binary')\n",
        "    print(f\"{df_name}: F1-score (with adjusted labels): {f1:.3f}\")\n"
      ],
      "metadata": {
        "colab": {
          "base_uri": "https://localhost:8080/"
        },
        "id": "HLU4psSclAvC",
        "outputId": "ce9c84e3-1dbf-4717-d6b2-85964cc90cc4"
      },
      "execution_count": null,
      "outputs": [
        {
          "output_type": "stream",
          "name": "stdout",
          "text": [
            "dfMistr24: F1-score (with adjusted labels): 0.523\n",
            "dfsalam7: F1-score (with adjusted labels): 0.380\n"
          ]
        }
      ]
    }
  ]
}